{
 "cells": [
  {
   "cell_type": "code",
   "execution_count": 1,
   "id": "0a8f398a-3af7-49fa-813e-116a6fe80dec",
   "metadata": {},
   "outputs": [
    {
     "name": "stdout",
     "output_type": "stream",
     "text": [
      "Collecting futhark_ffi\n",
      "  Downloading futhark_ffi-0.14.1-py3-none-any.whl (6.3 kB)\n",
      "Requirement already satisfied: cffi in /apps/tvb-hip/jlab_server/lib/python3.8/site-packages (from futhark_ffi) (1.15.0)\n",
      "Requirement already satisfied: numpy in /apps/tvb-hip/jlab_server/lib/python3.8/site-packages (from futhark_ffi) (1.20.3)\n",
      "Requirement already satisfied: pycparser in /apps/tvb-hip/jlab_server/lib/python3.8/site-packages (from cffi->futhark_ffi) (2.21)\n",
      "Installing collected packages: futhark-ffi\n",
      "Successfully installed futhark-ffi-0.14.1\n",
      "\u001b[33mWARNING: Running pip as the 'root' user can result in broken permissions and conflicting behaviour with the system package manager. It is recommended to use a virtual environment instead: https://pip.pypa.io/warnings/venv\u001b[0m\n",
      "Note: you may need to restart the kernel to use updated packages.\n"
     ]
    }
   ],
   "source": [
    "%pip install futhark_ffi"
   ]
  },
  {
   "cell_type": "code",
   "execution_count": 1,
   "id": "0242d2d7-b0f3-48a4-bcfe-0add0ddbaecf",
   "metadata": {},
   "outputs": [
    {
     "name": "stdout",
     "output_type": "stream",
     "text": [
      "Detected platform: linux\n",
      "Detected backend:  c\n",
      "\u001b[01m\u001b[K_bvep.c:\u001b[m\u001b[K In function ‘\u001b[01m\u001b[Kfuthark_restore_opaque_bvep_parm\u001b[m\u001b[K’:\n",
      "\u001b[01m\u001b[K_bvep.c:4426:19:\u001b[m\u001b[K \u001b[01;35m\u001b[Kwarning: \u001b[m\u001b[K‘\u001b[01m\u001b[Kshape_4\u001b[m\u001b[K’ may be used uninitialized in this function [\u001b[01;35m\u001b[K-Wmaybe-uninitialized\u001b[m\u001b[K]\n",
      " 4426 |     src += \u001b[01;35m\u001b[Kshape_4[0]\u001b[m\u001b[K * 4;\n",
      "      |            \u001b[01;35m\u001b[K~~~~~~~^~~\u001b[m\u001b[K\n",
      "\u001b[01m\u001b[K_bvep.c:4409:19:\u001b[m\u001b[K \u001b[01;35m\u001b[Kwarning: \u001b[m\u001b[K‘\u001b[01m\u001b[Kshape_3\u001b[m\u001b[K’ may be used uninitialized in this function [\u001b[01;35m\u001b[K-Wmaybe-uninitialized\u001b[m\u001b[K]\n",
      " 4409 |     src += \u001b[01;35m\u001b[Kshape_3[0]\u001b[m\u001b[K * 4;\n",
      "      |            \u001b[01;35m\u001b[K~~~~~~~^~~\u001b[m\u001b[K\n"
     ]
    }
   ],
   "source": [
    "!CFLAGS=\"-O3 -fomit-frame-pointer -mtune=cannonlake -march=cascadelake -mavx2 -mavx512f -ffast-math -ftree-vectorize\" build_futhark_ffi bvep"
   ]
  },
  {
   "cell_type": "code",
   "execution_count": 2,
   "id": "71d9bc27-7494-4a0a-a363-890de449f8d2",
   "metadata": {},
   "outputs": [],
   "source": [
    "from futhark_ffi import Futhark\n",
    "import _bvep\n",
    "lib = Futhark(_bvep)"
   ]
  },
  {
   "cell_type": "code",
   "execution_count": 3,
   "id": "6e732319-a3ea-42fb-8ba0-600dd3c07360",
   "metadata": {},
   "outputs": [],
   "source": [
    "import numpy as np\n",
    "globals().update(np.load('bvep.npz'))"
   ]
  },
  {
   "cell_type": "code",
   "execution_count": 4,
   "id": "44516833-82d8-4462-8945-e5ddbef3ce3e",
   "metadata": {},
   "outputs": [
    {
     "data": {
      "text/plain": [
       "((100, 91), (91, 87))"
      ]
     },
     "execution_count": 4,
     "metadata": {},
     "output_type": "execute_result"
    }
   ],
   "source": [
    "Obs_seeg.shape, Gr.shape"
   ]
  },
  {
   "cell_type": "code",
   "execution_count": 5,
   "id": "ef1abbd5-0f6f-43d3-b90a-a95c0a59dee1",
   "metadata": {},
   "outputs": [],
   "source": [
    "data = lib.mk_bvep_data(Obs_seeg, SC, Gr, dt, tau0, I1)"
   ]
  },
  {
   "cell_type": "code",
   "execution_count": 6,
   "id": "0995e0a9-e5de-45eb-83d5-fbf14a513544",
   "metadata": {},
   "outputs": [],
   "source": [
    "eta = np.zeros((87,))-2.5\n",
    "x_init = np.zeros((87,)) - 2.5\n",
    "z_init = np.zeros((87,)) + 4.0\n",
    "amp = 1.0\n",
    "off = np.zeros((91,)) + 1.0\n",
    "K = 0.1\n",
    "parm = lib.mk_bvep_parm(eta, 1.0, x_init, z_init, amp, off, K)"
   ]
  },
  {
   "cell_type": "code",
   "execution_count": 7,
   "id": "29e56c3b-f527-46a5-ad4b-84f8693cfd0a",
   "metadata": {},
   "outputs": [
    {
     "name": "stdout",
     "output_type": "stream",
     "text": [
      "559 µs ± 28.3 µs per loop (mean ± std. dev. of 7 runs, 1000 loops each)\n"
     ]
    }
   ],
   "source": [
    "%timeit lib.bvep_loss(data, parm)"
   ]
  },
  {
   "cell_type": "code",
   "execution_count": 8,
   "id": "df5fd8c4-5ef6-40aa-a8fa-05ea3b6ddf97",
   "metadata": {},
   "outputs": [
    {
     "name": "stdout",
     "output_type": "stream",
     "text": [
      "19.7 ms ± 1.01 ms per loop (mean ± std. dev. of 7 runs, 10 loops each)\n"
     ]
    }
   ],
   "source": [
    "%timeit lib.bvep_grad_loss(data,parm)"
   ]
  },
  {
   "cell_type": "code",
   "execution_count": 10,
   "id": "e67c0702-d433-441c-af98-4b1d7b6aed24",
   "metadata": {},
   "outputs": [
    {
     "data": {
      "text/plain": [
       "200.0"
      ]
     },
     "execution_count": 10,
     "metadata": {},
     "output_type": "execute_result"
    }
   ],
   "source": [
    "0.02*10_000"
   ]
  }
 ],
 "metadata": {
  "kernelspec": {
   "display_name": "Python 3 (ipykernel)",
   "language": "python",
   "name": "python3"
  },
  "language_info": {
   "codemirror_mode": {
    "name": "ipython",
    "version": 3
   },
   "file_extension": ".py",
   "mimetype": "text/x-python",
   "name": "python",
   "nbconvert_exporter": "python",
   "pygments_lexer": "ipython3",
   "version": "3.8.12"
  }
 },
 "nbformat": 4,
 "nbformat_minor": 5
}
