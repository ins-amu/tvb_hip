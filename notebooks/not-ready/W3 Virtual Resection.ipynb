{
 "cells": [
  {
   "cell_type": "markdown",
   "id": "b1c5e4cc-5e18-4d49-86d8-99aad84c580e",
   "metadata": {},
   "source": [
    "# Virtual resection\n",
    "\n",
    "When the brain model of a patient has been reconstructed (cf W1 "
   ]
  }
 ],
 "metadata": {
  "kernelspec": {
   "display_name": "Python 3 (ipykernel)",
   "language": "python",
   "name": "python3"
  },
  "language_info": {
   "codemirror_mode": {
    "name": "ipython",
    "version": 3
   },
   "file_extension": ".py",
   "mimetype": "text/x-python",
   "name": "python",
   "nbconvert_exporter": "python",
   "pygments_lexer": "ipython3",
   "version": "3.8.12"
  }
 },
 "nbformat": 4,
 "nbformat_minor": 5
}
